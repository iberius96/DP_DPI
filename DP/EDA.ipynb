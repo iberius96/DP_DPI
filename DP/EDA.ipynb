{
 "cells": [
  {
   "cell_type": "code",
   "execution_count": 1,
   "metadata": {},
   "outputs": [
    {
     "name": "stderr",
     "output_type": "stream",
     "text": [
      "/Users/samueleceol/Library/Python/3.9/lib/python/site-packages/tqdm/auto.py:22: TqdmWarning: IProgress not found. Please update jupyter and ipywidgets. See https://ipywidgets.readthedocs.io/en/stable/user_install.html\n",
      "  from .autonotebook import tqdm as notebook_tqdm\n"
     ]
    }
   ],
   "source": [
    "import math\n",
    "import numpy as np\n",
    "import pandas as pd\n",
    "import matplotlib.pyplot as plt\n",
    "import statistics as st\n",
    "from pandas_profiling import ProfileReport"
   ]
  },
  {
   "cell_type": "code",
   "execution_count": 7,
   "metadata": {},
   "outputs": [
    {
     "name": "stderr",
     "output_type": "stream",
     "text": [
      "Summarize dataset:  77%|███████▋  | 23/30 [00:00<00:04,  1.63it/s, Calculate cramers correlation]                               /Users/samueleceol/Library/Python/3.9/lib/python/site-packages/pandas_profiling/model/correlations.py:55: UserWarning: There was an attempt to calculate the cramers correlation, but this failed.\n",
      "To hide this warning, disable the calculation\n",
      "(using `df.profile_report(correlations={\"cramers\": {\"calculate\": False}})`\n",
      "If this is problematic for your use case, please report this as an issue:\n",
      "https://github.com/ydataai/pandas-profiling/issues\n",
      "(include the error message: 'No data; `observed` has size 0.')\n",
      "  warnings.warn(\n",
      "Summarize dataset: 100%|██████████| 34/34 [00:02<00:00, 11.75it/s, Completed]                    \n",
      "Generate report structure: 100%|██████████| 1/1 [00:04<00:00,  4.40s/it]\n",
      "Render HTML: 100%|██████████| 1/1 [00:01<00:00,  1.28s/it]\n",
      "Export report to file: 100%|██████████| 1/1 [00:00<00:00, 263.79it/s]\n",
      "Summarize dataset: 100%|██████████| 30/30 [00:04<00:00,  6.96it/s, Completed]                                  \n",
      "Generate report structure: 100%|██████████| 1/1 [00:02<00:00,  2.40s/it]\n",
      "Render HTML: 100%|██████████| 1/1 [00:00<00:00,  1.37it/s]\n",
      "Export report to file: 100%|██████████| 1/1 [00:00<00:00, 363.36it/s]\n",
      "Summarize dataset: 100%|██████████| 24/24 [00:01<00:00, 15.94it/s, Completed]                               \n",
      "Generate report structure: 100%|██████████| 1/1 [00:02<00:00,  2.07s/it]\n",
      "Render HTML: 100%|██████████| 1/1 [00:00<00:00,  1.86it/s]\n",
      "Export report to file: 100%|██████████| 1/1 [00:00<00:00, 355.12it/s]\n",
      "Summarize dataset: 100%|██████████| 24/24 [00:02<00:00, 11.39it/s, Completed]                                               \n",
      "Generate report structure: 100%|██████████| 1/1 [00:02<00:00,  2.11s/it]\n",
      "Render HTML: 100%|██████████| 1/1 [00:00<00:00,  1.73it/s]\n",
      "Export report to file: 100%|██████████| 1/1 [00:00<00:00, 396.17it/s]\n",
      "Summarize dataset:  79%|███████▉  | 27/34 [00:00<00:00, 31.26it/s, Calculate cramers correlation]                          /Users/samueleceol/Library/Python/3.9/lib/python/site-packages/pandas_profiling/model/correlations.py:55: UserWarning: There was an attempt to calculate the cramers correlation, but this failed.\n",
      "To hide this warning, disable the calculation\n",
      "(using `df.profile_report(correlations={\"cramers\": {\"calculate\": False}})`\n",
      "If this is problematic for your use case, please report this as an issue:\n",
      "https://github.com/ydataai/pandas-profiling/issues\n",
      "(include the error message: 'No data; `observed` has size 0.')\n",
      "  warnings.warn(\n",
      "Summarize dataset: 100%|██████████| 38/38 [00:04<00:00,  8.96it/s, Completed]                    \n",
      "Generate report structure: 100%|██████████| 1/1 [00:04<00:00,  4.81s/it]\n",
      "Render HTML: 100%|██████████| 1/1 [00:01<00:00,  1.04s/it]\n",
      "Export report to file: 100%|██████████| 1/1 [00:00<00:00, 256.94it/s]\n",
      "Summarize dataset:  71%|███████   | 17/24 [00:00<00:02,  3.03it/s, Calculate cramers correlation]                           /Users/samueleceol/Library/Python/3.9/lib/python/site-packages/pandas_profiling/model/correlations.py:55: UserWarning: There was an attempt to calculate the cramers correlation, but this failed.\n",
      "To hide this warning, disable the calculation\n",
      "(using `df.profile_report(correlations={\"cramers\": {\"calculate\": False}})`\n",
      "If this is problematic for your use case, please report this as an issue:\n",
      "https://github.com/ydataai/pandas-profiling/issues\n",
      "(include the error message: 'No data; `observed` has size 0.')\n",
      "  warnings.warn(\n",
      "Summarize dataset: 100%|██████████| 28/28 [00:01<00:00, 16.53it/s, Completed]                    \n",
      "Generate report structure: 100%|██████████| 1/1 [00:02<00:00,  2.89s/it]\n",
      "Render HTML: 100%|██████████| 1/1 [00:00<00:00,  1.20it/s]\n",
      "Export report to file: 100%|██████████| 1/1 [00:00<00:00, 368.05it/s]\n",
      "Summarize dataset: 100%|██████████| 23/23 [00:01<00:00, 15.89it/s, Completed]                             \n",
      "Generate report structure: 100%|██████████| 1/1 [00:02<00:00,  2.01s/it]\n",
      "Render HTML: 100%|██████████| 1/1 [00:00<00:00,  2.61it/s]\n",
      "Export report to file: 100%|██████████| 1/1 [00:00<00:00, 353.15it/s]\n",
      "Summarize dataset: 100%|██████████| 22/22 [00:01<00:00, 13.20it/s, Completed]                     \n",
      "Generate report structure: 100%|██████████| 1/1 [00:01<00:00,  1.72s/it]\n",
      "Render HTML: 100%|██████████| 1/1 [00:00<00:00,  2.07it/s]\n",
      "Export report to file: 100%|██████████| 1/1 [00:00<00:00, 351.84it/s]\n"
     ]
    }
   ],
   "source": [
    "sources = ['agri_system_overview', 'commodities', 'connections', 'factors', 'farming_system', 'impact_chain_model', 'involved_experts', 'resources']\n",
    "\n",
    "for source in sources:\n",
    "    df = pd.read_csv(f\"CRISP Dataset/CSV/Original csv/{source}.csv\")\n",
    "    profile = ProfileReport(df, title=source)\n",
    "    profile.to_file(f\"PP_dump/{source}.html\")"
   ]
  },
  {
   "cell_type": "code",
   "execution_count": null,
   "metadata": {},
   "outputs": [],
   "source": []
  }
 ],
 "metadata": {
  "kernelspec": {
   "display_name": "Python 3",
   "language": "python",
   "name": "python3"
  },
  "language_info": {
   "codemirror_mode": {
    "name": "ipython",
    "version": 3
   },
   "file_extension": ".py",
   "mimetype": "text/x-python",
   "name": "python",
   "nbconvert_exporter": "python",
   "pygments_lexer": "ipython3",
   "version": "3.9.6"
  },
  "orig_nbformat": 4,
  "vscode": {
   "interpreter": {
    "hash": "31f2aee4e71d21fbe5cf8b01ff0e069b9275f58929596ceb00d14d90e3e16cd6"
   }
  }
 },
 "nbformat": 4,
 "nbformat_minor": 2
}
